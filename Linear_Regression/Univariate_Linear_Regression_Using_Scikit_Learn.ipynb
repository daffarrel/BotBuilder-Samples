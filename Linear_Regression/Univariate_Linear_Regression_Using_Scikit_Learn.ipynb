{
  "nbformat": 4,
  "nbformat_minor": 0,
  "metadata": {
    "colab": {
      "name": "Univariate_Linear_Regression_Using_Scikit_Learn.ipynb",
      "provenance": [],
      "collapsed_sections": [],
      "authorship_tag": "ABX9TyP+wyt6vmYybECbheLu+5Tb",
      "include_colab_link": true
    },
    "kernelspec": {
      "name": "python3",
      "display_name": "Python 3"
    }
  },
  "cells": [
    {
      "cell_type": "markdown",
      "metadata": {
        "id": "view-in-github",
        "colab_type": "text"
      },
      "source": [
        "<a href=\"https://colab.research.google.com/github/satishgunjal/BotBuilder-Samples/blob/master/Linear_Regression/Univariate_Linear_Regression_Using_Scikit_Learn.ipynb\" target=\"_parent\"><img src=\"https://colab.research.google.com/assets/colab-badge.svg\" alt=\"Open In Colab\"/></a>"
      ]
    },
    {
      "cell_type": "markdown",
      "metadata": {
        "id": "D3dmAwC18LNZ",
        "colab_type": "text"
      },
      "source": [
        "![Linear_Regression_ScikitLearn_Header.png](https://raw.githubusercontent.com/satishgunjal/images/master/Linear_Regression_ScikitLearn_Header_640x441.png)\n",
        " \n",
        "In this tutorial we are going to use the Linear Models from Sklearn library. We are also going to use the same test data used in [Univariate Linear Regression From Scratch With Python](http://satishgunjal.github.io/univariate_lr/) tutorial\n",
        " \n",
        "## **Introduction**\n",
        " \n",
        "Scikit-learn is one of the most popular open source machine learning library for python. It provides range of machine learning models, here we are going to use linear model. Sklearn linear models are used when target value is some kind of linear combination of input value. Sklearn library has multiple types of linear models to choose form. The way we have implemented the 'Batch Gradient Descent' algorithm in [Univariate Linear Regression From Scratch With Python](http://satishgunjal.github.io/univariate_lr/) tutorial, every Sklearn linear model also use specific mathematical model to find the best fit line. \n",
        " \n",
        " \n",
        "## **Hypothesis Function Comparison**\n",
        " \n",
        "The hypothesis function used by Linear Models of Sklearn library is as below\n",
        " \n",
        "$\\hat{y}$(w, x) = w_0 + w_1 * x_1 \n",
        " \n",
        "Where,\n",
        "* $\\hat{y}$(w, x) = Target/output value\n",
        "* x_1 = Dependent/Input value\n",
        "* w_0 = intercept_\n",
        "* w_1 =  as coef_\n",
        " \n",
        "You must have noticed that above hypothesis function is not matching with the hypothesis function used in [Univariate Linear Regression From Scratch With Python](http://satishgunjal.github.io/univariate_lr/) tutorial. Actually both are same, just different notations are used\n",
        " \n",
        "h(θ, x) = θ_0 + θ_1 * x_1\n",
        " \n",
        "Where,\n",
        " \n",
        "* Both the hypothesis function use 'x' to represent input values or features\n",
        "* $\\hat{y}$(w, x) =  h(θ, x) = Target or output value\n",
        "* w_0 = θ__0  =  intercept_ or Y intercept\n",
        "* w_1 = θ__1 =  coef_ or slope/gradient\n",
        " \n",
        " \n",
        " \n",
        " \n",
        " \n",
        "\n"
      ]
    },
    {
      "cell_type": "markdown",
      "metadata": {
        "id": "jXodVMQ3JsH4",
        "colab_type": "text"
      },
      "source": [
        "## **Python Code**\n",
        " \n",
        "Yes, we are jumping to coding right after hypothesis function, because we are going to use Sklearn library which has multiple algorithms to choose from.\n",
        " \n",
        "## **Import the required libraries**\n",
        "* numpy : Numpy is the core library for scientific computing in Python. It is used for working with arrays and matrices.\n",
        "* pandas: Used for data manipulation and analysis\n",
        "* matplotlib : It’s plotting library, and we are going to use it for data visualization\n",
        "* linear_model: Sklearn linear regression model \n",
        " \n",
        "*In case you don't have any experience using these libraries, don't worry I will explain every bit of code for better understanding*\n",
        "\n"
      ]
    },
    {
      "cell_type": "code",
      "metadata": {
        "id": "4AkJ7y6w756I",
        "colab_type": "code",
        "colab": {}
      },
      "source": [
        "import numpy as np\n",
        "import pandas as pd\n",
        "import matplotlib.pyplot as plt\n",
        "from sklearn import linear_model"
      ],
      "execution_count": 0,
      "outputs": []
    },
    {
      "cell_type": "markdown",
      "metadata": {
        "id": "Pe7B5rmeK2d5",
        "colab_type": "text"
      },
      "source": [
        "## **Load the data**\n",
        "\n",
        "* We are going to use ‘profits_and_populations_from_the_cities.csv’ CSV file\n",
        "* File contains two columns, the first column is the population of a city and the second column is the profit of a food truck in that city. A negative value for profit indicates a loss."
      ]
    },
    {
      "cell_type": "code",
      "metadata": {
        "id": "_CYdmahXK5TT",
        "colab_type": "code",
        "outputId": "03de5d84-4b03-4184-fe36-5e9972b00955",
        "colab": {
          "base_uri": "https://localhost:8080/",
          "height": 202
        }
      },
      "source": [
        "df =pd.read_csv('https://raw.githubusercontent.com/satishgunjal/datasets/master/univariate_profits_and_populations_from_the_cities.csv')\n",
        "df.head(5) # Show first 5 rows from datset"
      ],
      "execution_count": 0,
      "outputs": [
        {
          "output_type": "execute_result",
          "data": {
            "text/html": [
              "<div>\n",
              "<style scoped>\n",
              "    .dataframe tbody tr th:only-of-type {\n",
              "        vertical-align: middle;\n",
              "    }\n",
              "\n",
              "    .dataframe tbody tr th {\n",
              "        vertical-align: top;\n",
              "    }\n",
              "\n",
              "    .dataframe thead th {\n",
              "        text-align: right;\n",
              "    }\n",
              "</style>\n",
              "<table border=\"1\" class=\"dataframe\">\n",
              "  <thead>\n",
              "    <tr style=\"text-align: right;\">\n",
              "      <th></th>\n",
              "      <th>population</th>\n",
              "      <th>profit</th>\n",
              "    </tr>\n",
              "  </thead>\n",
              "  <tbody>\n",
              "    <tr>\n",
              "      <th>0</th>\n",
              "      <td>6.1101</td>\n",
              "      <td>17.5920</td>\n",
              "    </tr>\n",
              "    <tr>\n",
              "      <th>1</th>\n",
              "      <td>5.5277</td>\n",
              "      <td>9.1302</td>\n",
              "    </tr>\n",
              "    <tr>\n",
              "      <th>2</th>\n",
              "      <td>8.5186</td>\n",
              "      <td>13.6620</td>\n",
              "    </tr>\n",
              "    <tr>\n",
              "      <th>3</th>\n",
              "      <td>7.0032</td>\n",
              "      <td>11.8540</td>\n",
              "    </tr>\n",
              "    <tr>\n",
              "      <th>4</th>\n",
              "      <td>5.8598</td>\n",
              "      <td>6.8233</td>\n",
              "    </tr>\n",
              "  </tbody>\n",
              "</table>\n",
              "</div>"
            ],
            "text/plain": [
              "   population   profit\n",
              "0      6.1101  17.5920\n",
              "1      5.5277   9.1302\n",
              "2      8.5186  13.6620\n",
              "3      7.0032  11.8540\n",
              "4      5.8598   6.8233"
            ]
          },
          "metadata": {
            "tags": []
          },
          "execution_count": 2
        }
      ]
    },
    {
      "cell_type": "code",
      "metadata": {
        "id": "osvZgMZDLXgE",
        "colab_type": "code",
        "outputId": "6b4b8b2d-81d0-46c6-ab7b-c23770771155",
        "colab": {
          "base_uri": "https://localhost:8080/",
          "height": 69
        }
      },
      "source": [
        "X = df.values[:,0] # Get input values from first column\n",
        "y = df.values[:,1] # Get output values froms econd column\n",
        "m = len(X)         # Total number training examples\n",
        "\n",
        "print('X = ', X[: 5]) # Show first 5 records\n",
        "print('y = ', y[: 5]) # Show first 5 records\n",
        "print('m = ', m)"
      ],
      "execution_count": 0,
      "outputs": [
        {
          "output_type": "stream",
          "text": [
            "X =  [6.1101 5.5277 8.5186 7.0032 5.8598]\n",
            "y =  [17.592   9.1302 13.662  11.854   6.8233]\n",
            "m =  97\n"
          ],
          "name": "stdout"
        }
      ]
    },
    {
      "cell_type": "markdown",
      "metadata": {
        "id": "tNc-QgQQQ7d2",
        "colab_type": "text"
      },
      "source": [
        "## **Understand The Data**\n",
        "* Population of City in 10,000s and Profit in $10,000s. i.e. 10K is multiplier for each data point\n",
        "* There are total 97 training examples (m= 97 or 97 no of rows)\n",
        "* There is only one feature (one column of feature and one of label/target/y)\n",
        " \n",
        "## **Data Visualization**\n",
        "Let's assign the features(independent variables) values to variable X and target(dependent variable) values to variable y\n",
        "For this dataset, we can use a scatter plot to visualize the data, since it has only two properties to plot (profit and population).\n",
        "Many other problems that you will encounter in real life are multi-dimensional and can’t be plotted on a 2D plot\n",
        " \n",
        "\n"
      ]
    },
    {
      "cell_type": "code",
      "metadata": {
        "id": "JIiZNoJhRNOm",
        "colab_type": "code",
        "outputId": "626d72e9-7ab7-446d-918b-00891a23cf27",
        "colab": {
          "base_uri": "https://localhost:8080/",
          "height": 421
        }
      },
      "source": [
        "plt.scatter(X,y, color='red',marker= '+')\n",
        "plt.grid()\n",
        "plt.rcParams[\"figure.figsize\"] = (10,6)\n",
        "plt.xlabel('Population of City in 10,000s')\n",
        "plt.ylabel('Profit in $10,000s')\n",
        "plt.title('Scatter Plot Of Training Data')"
      ],
      "execution_count": 0,
      "outputs": [
        {
          "output_type": "execute_result",
          "data": {
            "text/plain": [
              "Text(0.5, 1.0, 'Scatter Plot Of Training Data')"
            ]
          },
          "metadata": {
            "tags": []
          },
          "execution_count": 44
        },
        {
          "output_type": "display_data",
          "data": {
            "image/png": "[encoded data removed]",
            "text/plain": [
              "<Figure size 720x432 with 1 Axes>"
            ]
          },
          "metadata": {
            "tags": [],
            "needs_background": "light"
          }
        }
      ]
    },
    {
      "cell_type": "markdown",
      "metadata": {
        "id": "5k7MXUUZAn8W",
        "colab_type": "text"
      },
      "source": [
        "## **Which Sklearn Linear Regression Algorithm To Choose**\n",
        " \n",
        "* Sklearn library have multiple linear regression algorithms\n",
        "* Note: The way we have implemented the cost function and gradient descent algorithm every Sklearn algorithm also have some kind of mathematical model.\n",
        "* Different algorithms are better suited for different types of data and type of problems\n",
        "* The flow chart below will give you brief idea on how to choose right algorithm\n",
        " \n",
        "  ![Choosing_Right_Sklearn_Linear_Model.png](https://raw.githubusercontent.com/satishgunjal/images/master/Choosing%20Right%20Sklearn%20Linear%20Model.png)\n",
        " \n",
        "\n"
      ]
    },
    {
      "cell_type": "markdown",
      "metadata": {
        "id": "MQCufErKSOT1",
        "colab_type": "text"
      },
      "source": [
        "## **Ordinary Least Squares Algorithm**\n",
        "\n",
        "* This is one of the most basic linear regression algorithm. \n",
        "* Mathematical formula used by ordinary least square algorithm is as below,\n",
        "\n",
        "  ![ordinary_least_squares_formlua.png](https://github.com/satishgunjal/images/blob/master/ordinary_least_squares_formlua_1.png?raw=true)\n",
        "\n",
        "* The objective of Ordinary Least Square Algorithm is to minimize the residual sum of squares. Here the term residual means 'deviation of predicted value(Xw) from actual value(y)'\n",
        "* Problem with ordinary least square model is size of coefficients increase exponentially with increase in model complexity\n"
      ]
    },
    {
      "cell_type": "code",
      "metadata": {
        "id": "d7M1VpZnSl37",
        "colab_type": "code",
        "outputId": "4c8004a4-3e16-4ce1-dd51-f3abc41d36a8",
        "colab": {
          "base_uri": "https://localhost:8080/",
          "height": 35
        }
      },
      "source": [
        "model_ols =  linear_model.LinearRegression()\n",
        "model_ols.fit(X.reshape(m, 1),y) \n",
        "# fit() method is used for training the model\n",
        "# Note the first parameter(feature) is must be 2D array(feature matrix). Using reshape function convert 'X' which is 1D array to 2D array of dimension 97x1\n",
        "# Remember we don' thave to add column of 1 in X matrix, which is not required for sklearn library and we can avoid all that work"
      ],
      "execution_count": 0,
      "outputs": [
        {
          "output_type": "execute_result",
          "data": {
            "text/plain": [
              "LinearRegression(copy_X=True, fit_intercept=True, n_jobs=None, normalize=False)"
            ]
          },
          "metadata": {
            "tags": []
          },
          "execution_count": 5
        }
      ]
    },
    {
      "cell_type": "markdown",
      "metadata": {
        "id": "m0RlEbxiVGTT",
        "colab_type": "text"
      },
      "source": [
        "### **Understanding Training Results**\n",
        "* Note: If training is successful then we get the result like above. Where all the default values used by LinearRgression() model are displayed. If required we can also pass these values in fit method. We are not going to change any of these values for now.\n",
        "* As per our hypothesis function, 'model' object contains the coef and intercept values"
      ]
    },
    {
      "cell_type": "code",
      "metadata": {
        "id": "lKOKth_MV5T0",
        "colab_type": "code",
        "outputId": "7c94232b-3c3a-4e5d-c351-378d3b6395dc",
        "colab": {
          "base_uri": "https://localhost:8080/",
          "height": 52
        }
      },
      "source": [
        "coef = model_ols.coef_\n",
        "intercept = model_ols.intercept_\n",
        "print('coef= ', coef)\n",
        "print('intercept= ', intercept)"
      ],
      "execution_count": 0,
      "outputs": [
        {
          "output_type": "stream",
          "text": [
            "coef=  [1.19303364]\n",
            "intercept=  -3.89578087831185\n"
          ],
          "name": "stdout"
        }
      ]
    },
    {
      "cell_type": "markdown",
      "metadata": {
        "id": "o99ZIHyUYXsd",
        "colab_type": "text"
      },
      "source": [
        "You can compare above values with the values from [Univariate Linear Regression From Scratch With Python](http://satishgunjal.github.io/univariate_lr/) tutorial.\n",
        "Remember the notation difference...\n",
        "* coef(1.19303364) =  θ_1 (1.16636235)\n",
        "* intercept(-3.89578087831185) =  θ_0(-3.63029144)\n",
        " \n",
        "The values from our earlier model and Ordinary Least Squares model are not matching which is fine. Both models using different algorithm. Remember you have to choose the algorithm based on your data and problem type. And besides that this is just simple example with only 97 rows of data. \n",
        " \n",
        "Let's visualize the results..\n",
        "\n"
      ]
    },
    {
      "cell_type": "markdown",
      "metadata": {
        "id": "rpnZ2Lp9aJuH",
        "colab_type": "text"
      },
      "source": [
        "### **Visualization**\n",
        "* model.predict() method will give us the predicted values for our input values\n",
        "* Lets plot the line using predicted values."
      ]
    },
    {
      "cell_type": "code",
      "metadata": {
        "id": "I3cp0W1pXi_W",
        "colab_type": "code",
        "outputId": "9f7dd886-d56f-4d50-91d4-c634a671fa39",
        "colab": {
          "base_uri": "https://localhost:8080/",
          "height": 421
        }
      },
      "source": [
        "plt.scatter(X, y, color='red', marker= '+', label= 'Training Data')\n",
        "plt.plot(X, model_ols.predict(X.reshape(m, 1)), color='green', label='Linear Regression')\n",
        "\n",
        "plt.rcParams[\"figure.figsize\"] = (10,6)\n",
        "plt.grid()\n",
        "plt.xlabel('Population of City in 10,000s')\n",
        "plt.ylabel('Profit in $10,000s')\n",
        "plt.title('Linear Regression Fit')\n",
        "plt.legend()"
      ],
      "execution_count": 0,
      "outputs": [
        {
          "output_type": "execute_result",
          "data": {
            "text/plain": [
              "<matplotlib.legend.Legend at 0x7f639a3b7390>"
            ]
          },
          "metadata": {
            "tags": []
          },
          "execution_count": 10
        },
        {
          "output_type": "display_data",
          "data": {
            "image/png": "[encoded data removed]",
            "text/plain": [
              "<Figure size 720x432 with 1 Axes>"
            ]
          },
          "metadata": {
            "tags": [],
            "needs_background": "light"
          }
        }
      ]
    },
    {
      "cell_type": "markdown",
      "metadata": {
        "id": "CE2B3i29bYZB",
        "colab_type": "text"
      },
      "source": [
        "### **Testing the model**\n",
        "\n",
        "* **Question: Predict the profit for population 35,000**\n",
        "\n",
        "#### **Manual Calculations**\n",
        "\n",
        "* Hypothesis function is $\\hat{y}$(w, x) = w_0 + w_1 * x_1 \n",
        "* Predicted values from model are,\n",
        "  * θ_1(coef) = 1.19303364\n",
        "  * θ_0(intercept) = -3.89578087831185\n",
        "* x_1 = 3.5 (remember all our values are in multiples ok 10,000)\n",
        "* $\\hat{y}$(w, x) = (-3.89578087831185) + (1.19303364 * 3.5)\n",
        "* $\\hat{y}$(w, x)  = 0.27983686168815\n",
        "* Since all our values are in multiples of 10,000\n",
        "  * $\\hat{y}$(w, x) = 0.27983686168815 * 10000\n",
        "  * $\\hat{y}$(w, x) = 2798.3686168815\n",
        "\n",
        "* For population = 35,000, we predict a profit of 2798.3686168815\n",
        "\n",
        "We can predict the result using our model as below"
      ]
    },
    {
      "cell_type": "code",
      "metadata": {
        "id": "6_TxdXU0dVUM",
        "colab_type": "code",
        "outputId": "d48f018e-28dd-4e70-b7e8-3336a79e1a29",
        "colab": {
          "base_uri": "https://localhost:8080/",
          "height": 35
        }
      },
      "source": [
        "predict1 = model_ols.predict([[3.5]])\n",
        "print(\"For population = 35,000, our prediction of profit is\", predict1 * 10000)"
      ],
      "execution_count": 0,
      "outputs": [
        {
          "output_type": "stream",
          "text": [
            "For population = 35,000, our prediction of profit is [2798.36876352]\n"
          ],
          "name": "stdout"
        }
      ]
    },
    {
      "cell_type": "markdown",
      "metadata": {
        "id": "qjronI466OZ-",
        "colab_type": "text"
      },
      "source": [
        "So using sklearn library, we can train our model and predict the results with only few lines of code. Lets test our data with few other algorithms"
      ]
    },
    {
      "cell_type": "markdown",
      "metadata": {
        "id": "0tIZ8i4KS6af",
        "colab_type": "text"
      },
      "source": [
        "## **Ridge Regression Algorithm**\n",
        "* Ridge regression addresses some problems of Ordinary Least Squares by imposing a penalty on the size of the coefficients\n",
        "* Ridge model uses complexity parameter alpha to control the size of coefficients\n",
        "* Note: alpha should be more than '0', or else it will perform same as ordinary linear square model\n",
        "* Mathematical formula used by Ridge Regression algorithm is as below,\n",
        " \n",
        "  ![ridge_regression_formlua.png](https://github.com/satishgunjal/images/blob/master/ridge_regression_formlua_1.png?raw=true)\n",
        " \n",
        "\n"
      ]
    },
    {
      "cell_type": "code",
      "metadata": {
        "id": "3AhJgMRhZMg5",
        "colab_type": "code",
        "outputId": "79ead9d2-7d6d-4ef6-ae12-e620aadf92de",
        "colab": {
          "base_uri": "https://localhost:8080/",
          "height": 52
        }
      },
      "source": [
        "model_r = linear_model.Ridge(alpha=35)\n",
        "model_r.fit(X.reshape(m, 1),y)"
      ],
      "execution_count": 0,
      "outputs": [
        {
          "output_type": "execute_result",
          "data": {
            "text/plain": [
              "Ridge(alpha=35, copy_X=True, fit_intercept=True, max_iter=None, normalize=False,\n",
              "      random_state=None, solver='auto', tol=0.001)"
            ]
          },
          "metadata": {
            "tags": []
          },
          "execution_count": 42
        }
      ]
    },
    {
      "cell_type": "code",
      "metadata": {
        "id": "5GfcCdkCaNdu",
        "colab_type": "code",
        "outputId": "cff86dae-9f3f-4c8c-d181-b956bf2b6f27",
        "colab": {
          "base_uri": "https://localhost:8080/",
          "height": 52
        }
      },
      "source": [
        "coef = model_r.coef_\n",
        "intercept = model_r.intercept_\n",
        "print('coef= ' , coef)\n",
        "print('intercept= ' , intercept)"
      ],
      "execution_count": 0,
      "outputs": [
        {
          "output_type": "stream",
          "text": [
            "coef=  [1.16468008]\n",
            "intercept=  -3.6644214596467215\n"
          ],
          "name": "stdout"
        }
      ]
    },
    {
      "cell_type": "code",
      "metadata": {
        "colab_type": "code",
        "outputId": "c7e6f3e9-d1de-46e7-e7d3-a9a15566ef32",
        "id": "O56-xMq2Cdxn",
        "colab": {
          "base_uri": "https://localhost:8080/",
          "height": 35
        }
      },
      "source": [
        "predict1 = model_r.predict([[3.5]])\n",
        "print(\"For population = 35,000, our prediction of profit is\", predict1 * 10000)"
      ],
      "execution_count": 0,
      "outputs": [
        {
          "output_type": "stream",
          "text": [
            "For population = 35,000, our prediction of profit is [4119.58817955]\n"
          ],
          "name": "stdout"
        }
      ]
    },
    {
      "cell_type": "markdown",
      "metadata": {
        "id": "uQk-O__leh9i",
        "colab_type": "text"
      },
      "source": [
        "## **LASSO Regression Algorithm**\n",
        "* Similar to Ridge regression LASSO also uses regularization parameter alpha but it estimates sparse coefficients i.e. more number of 0 coefficients\n",
        "* That's why its best suited when dataset contains few important features\n",
        "* LASSO model uses regularization parameter alpha to control the size of coefficients\n",
        "* Note: alpha should be more than '0', or else it will perform same as ordinary linear square model\n",
        "* Mathematical formula used by LASSO Regression algorithm is as below,\n",
        " \n",
        "  ![lasso_regression_formlua.png](https://github.com/satishgunjal/images/blob/master/lasso_regression_formlua_1.png?raw=true)\n",
        "\n"
      ]
    },
    {
      "cell_type": "code",
      "metadata": {
        "id": "ibiv7avbd97T",
        "colab_type": "code",
        "outputId": "64f4bef2-f192-46cd-ed0b-5d509f141346",
        "colab": {
          "base_uri": "https://localhost:8080/",
          "height": 69
        }
      },
      "source": [
        "model_l = linear_model.Lasso(alpha=0.55)\n",
        "model_l.fit(X.reshape(m, 1),y)"
      ],
      "execution_count": 0,
      "outputs": [
        {
          "output_type": "execute_result",
          "data": {
            "text/plain": [
              "Lasso(alpha=0.55, copy_X=True, fit_intercept=True, max_iter=1000,\n",
              "      normalize=False, positive=False, precompute=False, random_state=None,\n",
              "      selection='cyclic', tol=0.0001, warm_start=False)"
            ]
          },
          "metadata": {
            "tags": []
          },
          "execution_count": 40
        }
      ]
    },
    {
      "cell_type": "code",
      "metadata": {
        "id": "LrhYWlivTf6S",
        "colab_type": "code",
        "outputId": "f07f5e4f-e846-472b-8623-1c2249cb5762",
        "colab": {
          "base_uri": "https://localhost:8080/",
          "height": 52
        }
      },
      "source": [
        "coef = model_l.coef_\n",
        "intercept = model_l.intercept_\n",
        "print('coef= ' , coef)\n",
        "print('intercept= ' , intercept)"
      ],
      "execution_count": 0,
      "outputs": [
        {
          "output_type": "stream",
          "text": [
            "coef=  [1.15592566]\n",
            "intercept=  -3.5929871214681945\n"
          ],
          "name": "stdout"
        }
      ]
    },
    {
      "cell_type": "code",
      "metadata": {
        "id": "ksVx4PsOeMVL",
        "colab_type": "code",
        "outputId": "9bb6ae94-d157-4e21-a478-048fa9f3863d",
        "colab": {
          "base_uri": "https://localhost:8080/",
          "height": 35
        }
      },
      "source": [
        "predict1 = model_l.predict([[3.5]])\n",
        "print(\"For population = 35,000, our prediction of profit is\", predict1 * 10000)"
      ],
      "execution_count": 0,
      "outputs": [
        {
          "output_type": "stream",
          "text": [
            "For population = 35,000, our prediction of profit is [4527.52676756]\n"
          ],
          "name": "stdout"
        }
      ]
    },
    {
      "cell_type": "markdown",
      "metadata": {
        "id": "ux3NCqR3fhPW",
        "colab_type": "text"
      },
      "source": [
        "## **Conclusion**\n",
        " \n",
        "As you can notice with Sklearn library we have very less work to do and everything is handled by library. We don't have to add column of ones, no need to write our cost function or gradient descent algorithm. We can directly use library and tune the hyper parameters (like changing the value of alpha) till the time we get satisfactory results. If you are following my machine learning tutorials from the beginning then implementing our own gradient descent algorithm and then using prebuilt models like Ridge or LASSO gives us very good perspective of inner workings of these libraries and hopeful it will help you understand it better."
      ]
    }
  ]
}